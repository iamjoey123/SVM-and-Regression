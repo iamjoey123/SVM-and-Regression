{
 "cells": [
  {
   "cell_type": "code",
   "execution_count": 1,
   "metadata": {},
   "outputs": [],
   "source": [
    "from cvxpy import *\n",
    "from numpy import array\n",
    "import numpy as np\n",
    "from matplotlib import pyplot as plt\n",
    "from mlxtend.data import loadlocal_mnist\n",
    "import time\n"
   ]
  },
  {
   "cell_type": "code",
   "execution_count": 2,
   "metadata": {},
   "outputs": [],
   "source": [
    "def plotting(x,y,a,b,t):\n",
    "    # Takes in a set of datapoints x and y for two clusters,\n",
    "    #  the hyperplane separating them in the form a'x -b = 0,\n",
    "    #  and a slab half-width t\n",
    "    plt.ylim([-10,10])\n",
    "    plt.xlim([-10,10])\n",
    "    plt.scatter(x[:,0], x[:,1], c='b', marker='o')\n",
    "    plt.scatter(y[:,0], y[:,1], c='r', marker='x')\n",
    "    d1_min = np.min([x[:,0]])\n",
    "    d1_min1 = np.min([y[:,0]])\n",
    "    if d1_min > d1_min1:\n",
    "        d1_min=d1_min1\n",
    "    d1_max = np.max([x[:,0]])\n",
    "    d1_max1 = np.max([y[:,0]])\n",
    "    if d1_max < d1_max1:\n",
    "        d1_max=d1_max1\n",
    "    # Line form: (-a[0] * x - b ) / a[1]\n",
    "    d2_atD1min = (-a[0]*d1_min + b ) / a[1]\n",
    "    d2_atD1max = (-a[0]*d1_max + b ) / a[1]\n",
    "\n",
    "    sup_up_atD1min = (-a[0]*d1_min + b + t ) / a[1]\n",
    "    sup_up_atD1max = (-a[0]*d1_max + b + t ) / a[1]\n",
    "    sup_dn_atD1min = (-a[0]*d1_min + b - t ) / a[1]\n",
    "    sup_dn_atD1max = (-a[0]*d1_max + b - t ) / a[1]\n",
    "\n",
    "    # Plot the Lines\n",
    "    plt.plot([d1_min,d1_max],[d2_atD1min,d2_atD1max],color='black')\n",
    "    plt.plot([d1_min,d1_max],[sup_up_atD1min,sup_up_atD1max],'--',color='gray')\n",
    "    plt.plot([d1_min,d1_max],[sup_dn_atD1min,sup_dn_atD1max],'--',color='gray')\n",
    "##########################\n",
    "def readdata():\n",
    "    filename= 'ToyData.txt'\n",
    "    xp=[]\n",
    "    xn=[]\n",
    "    yp=[]\n",
    "    yn=[]\n",
    "    with open(filename) as f:\n",
    "        line = f.readline()\n",
    "        while line:\n",
    "            line = f.readline().rstrip('\\n').split()\n",
    "            if line:\n",
    "                line[0] = int(line[0])\n",
    "                line[1] = int(line[1])\n",
    "                line[2] = int(line[2])\n",
    "                if line[2]>0:\n",
    "                    xp.append([line[0],line[1]])\n",
    "                    yp.append([line[2]])\n",
    "                else:\n",
    "                    xn.append([line[0],line[1]])\n",
    "                    yn.append([line[2]])\n",
    "    return xp,yp,xn,yn\n"
   ]
  },
  {
   "cell_type": "code",
   "execution_count": 3,
   "metadata": {},
   "outputs": [],
   "source": [
    "##########\n",
    "#Optimization\n",
    "##########\n",
    "def test(c,xp,xn,yp,yn,m,n,p,pw,cross,tx,ty):\n",
    "    w = Variable(d)\n",
    "    b = Variable()\n",
    "    zipp = Variable(m)\n",
    "    zin = Variable(n)\n",
    "    C = Parameter()\n",
    "    C.value = c\n",
    "    xp=np.array(xp)\n",
    "    yp=np.array(yp)\n",
    "    xn=np.array(xn)\n",
    "    yn=np.array(yn)\n",
    "    obj = Minimize((norm(w,2)**2/2) + C*np.ones(m)*zipp + C*np.ones(n)*zin)\n",
    "\n",
    "    constraints = [w.T * xp[i] + b >= 1 - zipp[i] for i in range(m)]\n",
    "    constraints.extend([w.T * xn[i] + b <= -1 + zin[i] for i in range(n)])\n",
    "    constraints.extend([zipp[i] >= 0  for i in range(m)])\n",
    "    constraints.extend([zin[i] >= 0  for i in range(n)])\n",
    "    #print(\"Solving...\")\n",
    "    prob = Problem(obj, constraints)\n",
    "    prob.solve(qcp=True)\n",
    "    w = w.value\n",
    "    normw=np.linalg.norm(w)\n",
    "    thi=np.arctan(w[1]/w[0])\n",
    "    b = b.value\n",
    "    c = C.value\n",
    "    #print(\"Solved!\")\n",
    "    error = 0\n",
    "    #print(\"wx + b >=0:\")\n",
    "    for i in range(m):\n",
    "        x = np.dot(w.T,xp[i])+b\n",
    "        #print(x)\n",
    "        if x<0:\n",
    "            error+=1\n",
    "    #print(\"wx + b < 0:\")\n",
    "    for i in range(n):\n",
    "        x = np.dot(w.T,xn[i])+b\n",
    "        #print(x)\n",
    "        if x>=0:\n",
    "            error+=1\n",
    "    \n",
    "    if pw>0:\n",
    "        print(\"C=\", c)\n",
    "        print(\"w vector=\",w)\n",
    "        print(\"margin 1/||w||=\",1/normw)\n",
    "        print(\"support vector(dual):\",constraints[0].dual_value)\n",
    "        print(\"support vector(dual):\",constraints[1].dual_value)\n",
    "        \n",
    "    if p>0:\n",
    "        plotting(xp,xn,w,b,1)\n",
    "        plt.show()\n",
    "    if cross>0:\n",
    "        x = np.dot(w.T,tx)+b\n",
    "        #print(x)\n",
    "        if x>0:\n",
    "            if ty[0]<0:\n",
    "                return 1\n",
    "            else:\n",
    "                return 0\n",
    "        if x<0:\n",
    "            if ty[0]>0:\n",
    "                return 1\n",
    "            else:\n",
    "                return 0\n",
    "    else:\n",
    "        print(\"Misclassification Error:\",error,\"/\",m+n,\"= {:.3f} %\\n\".format(error/(m+n)*100))\n",
    "    return error\n",
    "###########\n",
    "def crossvalid(xp,yp,m,n,p,pw):\n",
    "    error=0\n",
    "\n",
    "    for i in range(m):\n",
    "        xpp=list(xp)\n",
    "        ypp=list(yp)\n",
    "        testdatax=xpp[i]\n",
    "        testdatay=ypp[i]\n",
    "        del xpp[i]\n",
    "        del ypp[i]\n",
    "        error = error + test(1,xpp,xn,ypp,yn,m-1,n,p,pw,1,testdatax,testdatay)\n",
    "        #print(\"error=\",error)\n",
    "    for i in range(n):\n",
    "        xnn=list(xn)\n",
    "        ynn=list(yn)\n",
    "        testdatax=xnn[i]\n",
    "        testdatay=ynn[i]\n",
    "        del xnn[i]\n",
    "        del ynn[i]\n",
    "        error = error + test(1,xp,xnn,yp,ynn,m,n-1,p,pw,1,testdatax,testdatay)\n",
    "        #print(\"error=\",error)\n",
    "    print(\"Cross Validation Error: {:.3f} %\".format(error/(m+n)*100))\n",
    "    "
   ]
  },
  {
   "cell_type": "code",
   "execution_count": 4,
   "metadata": {},
   "outputs": [
    {
     "name": "stdout",
     "output_type": "stream",
     "text": [
      "Cross Validation Error: 33.333 %\n"
     ]
    }
   ],
   "source": [
    "d = 2 #dimension\n",
    "xp=[]\n",
    "xn=[]\n",
    "yp=[]\n",
    "yn=[]\n",
    "m=7\n",
    "n=8\n",
    "xp,yp,xn,yn=readdata()\n",
    "crossvalid(xp,yp,m,n,0,0)"
   ]
  },
  {
   "cell_type": "code",
   "execution_count": 5,
   "metadata": {},
   "outputs": [
    {
     "name": "stdout",
     "output_type": "stream",
     "text": [
      "C= 1\n",
      "w vector= [ 1.00000000e+00 -1.42318515e-10]\n",
      "margin 1/||w||= 0.9999999998925835\n",
      "support vector(dual): 1.0000000000651883\n",
      "support vector(dual): 0.8772972446274951\n"
     ]
    },
    {
     "data": {
      "image/png": "[encoded data removed]",
      "text/plain": [
       "<Figure size 432x288 with 1 Axes>"
      ]
     },
     "metadata": {
      "needs_background": "light"
     },
     "output_type": "display_data"
    },
    {
     "name": "stdout",
     "output_type": "stream",
     "text": [
      "Misclassification Error: 2 / 15 = 13.333 %\n",
      "\n",
      "C= 100000\n",
      "w vector= [ 1.00002155e+00 -3.11365878e-10]\n",
      "margin 1/||w||= 0.9999784491288226\n",
      "support vector(dual): 99999.99999237097\n",
      "support vector(dual): 87500.0507211019\n"
     ]
    },
    {
     "data": {
      "image/png": "[encoded data removed]",
      "text/plain": [
       "<Figure size 432x288 with 1 Axes>"
      ]
     },
     "metadata": {
      "needs_background": "light"
     },
     "output_type": "display_data"
    },
    {
     "name": "stdout",
     "output_type": "stream",
     "text": [
      "Misclassification Error: 2 / 15 = 13.333 %\n",
      "\n"
     ]
    },
    {
     "data": {
      "text/plain": [
       "2"
      ]
     },
     "execution_count": 5,
     "metadata": {},
     "output_type": "execute_result"
    }
   ],
   "source": [
    "d = 2 #dimension\n",
    "xp=[]\n",
    "xn=[]\n",
    "yp=[]\n",
    "yn=[]\n",
    "\n",
    "xp,yp,xn,yn=readdata()\n",
    "test(1,xp,xn,yp,yn,7,8,1,1,0,0,0)\n",
    "test(100000,xp,xn,yp,yn,7,8,1,1,0,0,0)"
   ]
  },
  {
   "cell_type": "code",
   "execution_count": 6,
   "metadata": {},
   "outputs": [
    {
     "name": "stdout",
     "output_type": "stream",
     "text": [
      "labels: [0 1]\n",
      "Class distribution:0s: 5923 1s: 6742\n"
     ]
    },
    {
     "name": "stderr",
     "output_type": "stream",
     "text": [
      "C:\\Users\\h1247\\Anaconda3\\lib\\site-packages\\ipykernel_launcher.py:26: RuntimeWarning: invalid value encountered in double_scalars\n"
     ]
    },
    {
     "name": "stdout",
     "output_type": "stream",
     "text": [
      "Misclassification Error: 5128 / 12665 = 40.490 %\n",
      "\n",
      "Time elapsed: 93.123  s\n"
     ]
    }
   ],
   "source": [
    "\n",
    "d = 784\n",
    "\n",
    "(X_train, Y_train) = loadlocal_mnist(\n",
    "        images_path='train-images.idx3-ubyte', \n",
    "        labels_path='train-labels.idx1-ubyte')\n",
    "(X_test, Y_test) = loadlocal_mnist(\n",
    "        images_path='t10k-images.idx3-ubyte', \n",
    "        labels_path='t10k-labels.idx1-ubyte')\n",
    "train_filter = np.where((Y_train == 0 ) | (Y_train == 1))\n",
    "(X_train, Y_train) = X_train[train_filter], Y_train[train_filter]\n",
    "print('labels: %s' % np.unique(Y_train))\n",
    "total = np.bincount(Y_train)\n",
    "t0,t1 = total[0],total[1]\n",
    "print('Class distribution:0s:',t0,\"1s:\",t1 )\n",
    "xp = X_train[:5923]\n",
    "xn = X_train[-6742:]\n",
    "yp = Y_train[:5923]\n",
    "yn = Y_train[-6742:]\n",
    "start = time.time()\n",
    "test(1,xp,xn,yp,yn,t0,t1,0,0,0,0,0)\n",
    "end = time.time()\n",
    "print(\"Time elapsed: {:.3f} \".format(end - start),\"s\")\n"
   ]
  },
  {
   "cell_type": "code",
   "execution_count": 7,
   "metadata": {},
   "outputs": [],
   "source": [
    "def re_test(xp,yp,xn,yn,d,n,p):\n",
    "    xpp = list(xp)\n",
    "    ypp = list(yp)\n",
    "    xpp.extend(xn)\n",
    "    ypp.extend(yn)\n",
    "    xppx= [item[0] for item in xpp]\n",
    "    xppy= [item[1] for item in xpp]\n",
    "    xppx = np.array(xppx)\n",
    "    xppy = np.array(xppy)\n",
    "    ypp = np.array(ypp)\n",
    "\n",
    "    A = Variable()\n",
    "    b = Variable()\n",
    "    obj = 0\n",
    "    for i in range(n):\n",
    "        obj += (A * xppx[i] + b - xppy[i]) ** 2\n",
    "    prob = Problem(Minimize(obj),[])\n",
    "    prob.solve()\n",
    "    \n",
    "    \"\"\"for i in range(n):\n",
    "        print(A.value * xppx[i] + b.value - xppy[i])\"\"\"\n",
    "    if p>0:\n",
    "        plt.scatter(xppx,xppy)\n",
    "        plt.plot(xppx, (A.value)*xppx + b.value,color='black')\n",
    "    return(xppx,A.value,b.value)\n",
    "#################################\n",
    "def re_crossvalid(d,n):\n",
    "    error=0\n",
    "    xp,yp,xn,yn=readdata()\n",
    "    for i in range(len(xp)):\n",
    "        xpp=list(xp)\n",
    "        ypp=list(yp)\n",
    "        del xpp[i]\n",
    "        del ypp[i]\n",
    "        x,A,b=re_test(xp,yp,xn,yn,d,n-1,0)\n",
    "        print(A * xp[i][0] + b - xp[i][1])\n",
    "    for i in range(len(xn)):\n",
    "        xnn=list(xn)\n",
    "        ynn=list(yn)\n",
    "        del xnn[i]\n",
    "        del ynn[i]\n",
    "        x,A,b=re_test(xp,yp,xn,yn,d,n-1,0)\n",
    "        #print(\"error=\",error)\n",
    "    print(\"Cross Validation Error: {:.3f} %\".format(error/(len(xp)+len(xn))*100))"
   ]
  },
  {
   "cell_type": "code",
   "execution_count": 8,
   "metadata": {},
   "outputs": [
    {
     "data": {
      "text/plain": [
       "(array([ 0,  1,  1,  2,  2,  3,  3, -1, -2, -2, -3, -3, -1,  1,  0]),\n",
       " array(0.14519906),\n",
       " array(0.7236534))"
      ]
     },
     "execution_count": 8,
     "metadata": {},
     "output_type": "execute_result"
    },
    {
     "data": {
      "image/png": "[encoded data removed]",
      "text/plain": [
       "<Figure size 432x288 with 1 Axes>"
      ]
     },
     "metadata": {
      "needs_background": "light"
     },
     "output_type": "display_data"
    }
   ],
   "source": [
    "xp,yp,xn,yn=readdata()\n",
    "d = 2\n",
    "n = 15\n",
    "re_test(xp,yp,xn,yn,d,n,1)"
   ]
  },
  {
   "cell_type": "code",
   "execution_count": 9,
   "metadata": {},
   "outputs": [
    {
     "name": "stdout",
     "output_type": "stream",
     "text": [
      "-1.5821831869510665\n",
      "-4.431618569636136\n",
      "3.5683814303638646\n",
      "-1.2810539523212046\n",
      "-2.2810539523212046\n",
      "-0.1304893350062737\n",
      "2.8695106649937263\n",
      "Cross Validation Error: 0.000 %\n"
     ]
    }
   ],
   "source": [
    "re_crossvalid(d,n)"
   ]
  }
 ],
 "metadata": {
  "kernelspec": {
   "display_name": "Python 3",
   "language": "python",
   "name": "python3"
  },
  "language_info": {
   "codemirror_mode": {
    "name": "ipython",
    "version": 3
   },
   "file_extension": ".py",
   "mimetype": "text/x-python",
   "name": "python",
   "nbconvert_exporter": "python",
   "pygments_lexer": "ipython3",
   "version": "3.7.3"
  }
 },
 "nbformat": 4,
 "nbformat_minor": 2
}
